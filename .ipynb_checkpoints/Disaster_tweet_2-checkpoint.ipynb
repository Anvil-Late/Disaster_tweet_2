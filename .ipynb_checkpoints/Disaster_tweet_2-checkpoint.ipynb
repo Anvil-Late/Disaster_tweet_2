{
 "cells": [
  {
   "cell_type": "markdown",
   "metadata": {
    "toc": true
   },
   "source": [
    "<h1>Table of Contents<span class=\"tocSkip\"></span></h1>\n",
    "<div class=\"toc\"><ul class=\"toc-item\"><li><span><a href=\"#Summary\" data-toc-modified-id=\"Summary-1\"><span class=\"toc-item-num\">1&nbsp;&nbsp;</span>Summary</a></span></li><li><span><a href=\"#Loading-packages\" data-toc-modified-id=\"Loading-packages-2\"><span class=\"toc-item-num\">2&nbsp;&nbsp;</span>Loading packages</a></span></li><li><span><a href=\"#Loading-the-data\" data-toc-modified-id=\"Loading-the-data-3\"><span class=\"toc-item-num\">3&nbsp;&nbsp;</span>Loading the data</a></span></li><li><span><a href=\"#Exploring-the-dataset\" data-toc-modified-id=\"Exploring-the-dataset-4\"><span class=\"toc-item-num\">4&nbsp;&nbsp;</span>Exploring the dataset</a></span></li><li><span><a href=\"#Model-Building\" data-toc-modified-id=\"Model-Building-5\"><span class=\"toc-item-num\">5&nbsp;&nbsp;</span>Model Building</a></span></li><li><span><a href=\"#Predictions\" data-toc-modified-id=\"Predictions-6\"><span class=\"toc-item-num\">6&nbsp;&nbsp;</span>Predictions</a></span></li></ul></div>"
   ]
  },
  {
   "cell_type": "markdown",
   "metadata": {},
   "source": [
    "# Summary"
   ]
  },
  {
   "cell_type": "markdown",
   "metadata": {},
   "source": []
  },
  {
   "cell_type": "markdown",
   "metadata": {},
   "source": [
    "# Loading packages"
   ]
  },
  {
   "cell_type": "code",
   "execution_count": 24,
   "metadata": {},
   "outputs": [],
   "source": [
    "%matplotlib inline\n",
    "import pandas as pd\n",
    "import numpy as np\n",
    "import matplotlib.pyplot as plt\n",
    "from matplotlib import cm\n",
    "from matplotlib.lines import Line2D\n",
    "from mpl_toolkits import mplot3d\n",
    "import pandas as pd\n",
    "import seaborn as sns\n",
    "import os\n",
    "import requests\n",
    "import missingno as msno\n",
    "import warnings\n",
    "import time\n",
    "warnings.simplefilter(action='ignore', category=FutureWarning)\n",
    "from urllib import request\n",
    "from sklearn.preprocessing import LabelEncoder\n",
    "import keras\n",
    "from tensorflow.compat.v1.keras import backend as KB\n",
    "from keras.layers import Dense, Flatten, Input, Lambda\n",
    "from keras.models import Model, load_model\n",
    "from keras import optimizers\n",
    "from keras.callbacks import EarlyStopping\n",
    "import tensorflow.compat.v1 as tf\n",
    "# On désactive la eager execution pour rendre tensorflow compatible avec nos scripts\n",
    "tf.disable_eager_execution()\n",
    "import tensorflow_hub as hub"
   ]
  },
  {
   "cell_type": "markdown",
   "metadata": {},
   "source": [
    "# Loading the data"
   ]
  },
  {
   "cell_type": "code",
   "execution_count": 15,
   "metadata": {},
   "outputs": [],
   "source": [
    "test_url = \"https://storage.googleapis.com/kagglesdsdata/competitions/17777/869809/test.csv?GoogleAccessId=web-data@kaggle-161607.iam.gserviceaccount.com&Expires=1620373333&Signature=bmy6sGK2iuXzJYweu2NmmSBFEAEf%2Bswtbc8%2F%2F5qs2JLpts0CHjYsbBT1L%2FsykkEj4cWA2iyKTjs7LfGZj3i5bYTZwg2O2ZGA2g2YzA0z9TW7n%2FotxegI%2Bzl%2FpmTTHEJki3NSkNX2tDybv%2BF2KxGsdiGCGyX8Nsm1u6%2Bwd32Il2EIRPgP%2BxZwkw%2FumQ5E7ut7ryzvTxEwWz6XwHNCpjGuT1KVrSQY4%2FrUNiSB4oHJc1H%2BmEgG8i87cFSjtiIyVO2spuxKKc8VhVFaDeSRi7R%2B%2FQ7Knk6ZSXaHgYyMjoZAn65Vg2wm6xcEVQNggYmjUE3nEavepO2X4an1HqOnUSseUg%3D%3D&response-content-disposition=attachment%3B+filename%3Dtest.csv\"\n",
    "train_url = \"https://storage.googleapis.com/kagglesdsdata/competitions/17777/869809/train.csv?GoogleAccessId=web-data@kaggle-161607.iam.gserviceaccount.com&Expires=1620373395&Signature=CX3TP4uT7VaGEcy8uVyIadgNJOdP415F4DQgTPTp37vSIJidekF%2FtKotU1VCBVwycS5PWJYbJESblLYpY8rDdiqxt%2BhEEXYWveVmpLJxVtrI%2Bsx3T%2Bh45ruy4t1kBWCY8HQkG3GgJT6TqTvxY0tdk0qMBIVWVwDWNdMHHjR61yr5wIffsqQLV0P3Eil3V%2B9rz4lWaU1uxSgKMbe32ExRPEY%2FrNrkrGKMLlrZi%2BgELWNaIS0RpPBxV%2FCTGlddj3y%2FsrSy900mviTbpxvQB17FchSGy8E%2BgwAdkHmLrMWVFRUMecPuk5TFCIu1kQFrDGHPPIT%2FPWA8EeyvqDn0MynejA%3D%3D&response-content-disposition=attachment%3B+filename%3Dtrain.csv\"\n",
    "if not os.path.exists('data'):\n",
    "    os.makedirs('data')\n",
    "\n",
    "if not os.path.exists(\"./data/train.csv\"):\n",
    "    request.urlretrieve (train_url, \"./data/train.csv\")\n",
    "if not os.path.exists(\"./data/test.csv\"):\n",
    "    request.urlretrieve (test_url, \"./data/test.csv\")\n",
    "\n",
    "train_data = pd.read_csv(\"./data/train.csv\")\n",
    "test_data = pd.read_csv(\"./data/test.csv\")"
   ]
  },
  {
   "cell_type": "markdown",
   "metadata": {},
   "source": [
    "# Exploring the dataset"
   ]
  },
  {
   "cell_type": "code",
   "execution_count": 16,
   "metadata": {},
   "outputs": [
    {
     "data": {
      "text/html": [
       "<div>\n",
       "<style scoped>\n",
       "    .dataframe tbody tr th:only-of-type {\n",
       "        vertical-align: middle;\n",
       "    }\n",
       "\n",
       "    .dataframe tbody tr th {\n",
       "        vertical-align: top;\n",
       "    }\n",
       "\n",
       "    .dataframe thead th {\n",
       "        text-align: right;\n",
       "    }\n",
       "</style>\n",
       "<table border=\"1\" class=\"dataframe\">\n",
       "  <thead>\n",
       "    <tr style=\"text-align: right;\">\n",
       "      <th></th>\n",
       "      <th>id</th>\n",
       "      <th>keyword</th>\n",
       "      <th>location</th>\n",
       "      <th>text</th>\n",
       "      <th>target</th>\n",
       "    </tr>\n",
       "  </thead>\n",
       "  <tbody>\n",
       "    <tr>\n",
       "      <th>0</th>\n",
       "      <td>1</td>\n",
       "      <td>NaN</td>\n",
       "      <td>NaN</td>\n",
       "      <td>Our Deeds are the Reason of this #earthquake M...</td>\n",
       "      <td>1</td>\n",
       "    </tr>\n",
       "    <tr>\n",
       "      <th>1</th>\n",
       "      <td>4</td>\n",
       "      <td>NaN</td>\n",
       "      <td>NaN</td>\n",
       "      <td>Forest fire near La Ronge Sask. Canada</td>\n",
       "      <td>1</td>\n",
       "    </tr>\n",
       "    <tr>\n",
       "      <th>2</th>\n",
       "      <td>5</td>\n",
       "      <td>NaN</td>\n",
       "      <td>NaN</td>\n",
       "      <td>All residents asked to 'shelter in place' are ...</td>\n",
       "      <td>1</td>\n",
       "    </tr>\n",
       "    <tr>\n",
       "      <th>3</th>\n",
       "      <td>6</td>\n",
       "      <td>NaN</td>\n",
       "      <td>NaN</td>\n",
       "      <td>13,000 people receive #wildfires evacuation or...</td>\n",
       "      <td>1</td>\n",
       "    </tr>\n",
       "    <tr>\n",
       "      <th>4</th>\n",
       "      <td>7</td>\n",
       "      <td>NaN</td>\n",
       "      <td>NaN</td>\n",
       "      <td>Just got sent this photo from Ruby #Alaska as ...</td>\n",
       "      <td>1</td>\n",
       "    </tr>\n",
       "  </tbody>\n",
       "</table>\n",
       "</div>"
      ],
      "text/plain": [
       "   id keyword location                                               text  \\\n",
       "0   1     NaN      NaN  Our Deeds are the Reason of this #earthquake M...   \n",
       "1   4     NaN      NaN             Forest fire near La Ronge Sask. Canada   \n",
       "2   5     NaN      NaN  All residents asked to 'shelter in place' are ...   \n",
       "3   6     NaN      NaN  13,000 people receive #wildfires evacuation or...   \n",
       "4   7     NaN      NaN  Just got sent this photo from Ruby #Alaska as ...   \n",
       "\n",
       "   target  \n",
       "0       1  \n",
       "1       1  \n",
       "2       1  \n",
       "3       1  \n",
       "4       1  "
      ]
     },
     "execution_count": 16,
     "metadata": {},
     "output_type": "execute_result"
    }
   ],
   "source": [
    "train_data.head()"
   ]
  },
  {
   "cell_type": "code",
   "execution_count": 17,
   "metadata": {},
   "outputs": [
    {
     "data": {
      "text/html": [
       "<div>\n",
       "<style scoped>\n",
       "    .dataframe tbody tr th:only-of-type {\n",
       "        vertical-align: middle;\n",
       "    }\n",
       "\n",
       "    .dataframe tbody tr th {\n",
       "        vertical-align: top;\n",
       "    }\n",
       "\n",
       "    .dataframe thead th {\n",
       "        text-align: right;\n",
       "    }\n",
       "</style>\n",
       "<table border=\"1\" class=\"dataframe\">\n",
       "  <thead>\n",
       "    <tr style=\"text-align: right;\">\n",
       "      <th></th>\n",
       "      <th>id</th>\n",
       "      <th>keyword</th>\n",
       "      <th>location</th>\n",
       "      <th>text</th>\n",
       "    </tr>\n",
       "  </thead>\n",
       "  <tbody>\n",
       "    <tr>\n",
       "      <th>0</th>\n",
       "      <td>0</td>\n",
       "      <td>NaN</td>\n",
       "      <td>NaN</td>\n",
       "      <td>Just happened a terrible car crash</td>\n",
       "    </tr>\n",
       "    <tr>\n",
       "      <th>1</th>\n",
       "      <td>2</td>\n",
       "      <td>NaN</td>\n",
       "      <td>NaN</td>\n",
       "      <td>Heard about #earthquake is different cities, s...</td>\n",
       "    </tr>\n",
       "    <tr>\n",
       "      <th>2</th>\n",
       "      <td>3</td>\n",
       "      <td>NaN</td>\n",
       "      <td>NaN</td>\n",
       "      <td>there is a forest fire at spot pond, geese are...</td>\n",
       "    </tr>\n",
       "    <tr>\n",
       "      <th>3</th>\n",
       "      <td>9</td>\n",
       "      <td>NaN</td>\n",
       "      <td>NaN</td>\n",
       "      <td>Apocalypse lighting. #Spokane #wildfires</td>\n",
       "    </tr>\n",
       "    <tr>\n",
       "      <th>4</th>\n",
       "      <td>11</td>\n",
       "      <td>NaN</td>\n",
       "      <td>NaN</td>\n",
       "      <td>Typhoon Soudelor kills 28 in China and Taiwan</td>\n",
       "    </tr>\n",
       "  </tbody>\n",
       "</table>\n",
       "</div>"
      ],
      "text/plain": [
       "   id keyword location                                               text\n",
       "0   0     NaN      NaN                 Just happened a terrible car crash\n",
       "1   2     NaN      NaN  Heard about #earthquake is different cities, s...\n",
       "2   3     NaN      NaN  there is a forest fire at spot pond, geese are...\n",
       "3   9     NaN      NaN           Apocalypse lighting. #Spokane #wildfires\n",
       "4  11     NaN      NaN      Typhoon Soudelor kills 28 in China and Taiwan"
      ]
     },
     "execution_count": 17,
     "metadata": {},
     "output_type": "execute_result"
    }
   ],
   "source": [
    "test_data.head()"
   ]
  },
  {
   "cell_type": "code",
   "execution_count": 25,
   "metadata": {},
   "outputs": [
    {
     "data": {
      "text/plain": [
       "<matplotlib.axes._subplots.AxesSubplot at 0x14cc1e785b0>"
      ]
     },
     "execution_count": 25,
     "metadata": {},
     "output_type": "execute_result"
    },
    {
     "data": {
      "image/png": "[encoded data removed]",
      "text/plain": [
       "<Figure size 1728x720 with 3 Axes>"
      ]
     },
     "metadata": {
      "needs_background": "light"
     },
     "output_type": "display_data"
    }
   ],
   "source": [
    "msno.bar(train_data)"
   ]
  },
  {
   "cell_type": "code",
   "execution_count": 26,
   "metadata": {},
   "outputs": [
    {
     "data": {
      "text/plain": [
       "<matplotlib.axes._subplots.AxesSubplot at 0x14cc1f39f70>"
      ]
     },
     "execution_count": 26,
     "metadata": {},
     "output_type": "execute_result"
    },
    {
     "data": {
      "image/png": "[encoded data removed]",
      "text/plain": [
       "<Figure size 1728x720 with 3 Axes>"
      ]
     },
     "metadata": {
      "needs_background": "light"
     },
     "output_type": "display_data"
    }
   ],
   "source": [
    "msno.bar(test_data)"
   ]
  },
  {
   "cell_type": "code",
   "execution_count": 22,
   "metadata": {},
   "outputs": [
    {
     "data": {
      "text/plain": [
       "Text(0.5, 0.98, 'Target distribution')"
      ]
     },
     "execution_count": 22,
     "metadata": {},
     "output_type": "execute_result"
    },
    {
     "data": {
      "image/png": "[encoded data removed]",
      "text/plain": [
       "<Figure size 1296x576 with 1 Axes>"
      ]
     },
     "metadata": {
      "needs_background": "light"
     },
     "output_type": "display_data"
    }
   ],
   "source": [
    "fig, ax = plt.subplots(figsize = (18, 8))\n",
    "train_data[\"target\"].value_counts().plot(kind = \"bar\", ax = ax)\n",
    "plt.xticks(rotation = 45, rotation_mode = \"anchor\", ha = \"right\")\n",
    "for idx, value in enumerate(train_data[\"target\"].value_counts()):\n",
    "    ax.text(idx - 0.03, value + 0.01*value, value, fontweight = \"bold\", fontsize = 12)\n",
    "ax.set_xlabel(\"Target\", fontsize = 16)\n",
    "ax.set_ylabel(\"Count\", fontsize = 16)\n",
    "plt.suptitle(\"Target distribution\", fontsize = 18, fontweight = \"bold\")"
   ]
  },
  {
   "cell_type": "markdown",
   "metadata": {},
   "source": [
    "# Model Building"
   ]
  },
  {
   "cell_type": "code",
   "execution_count": 28,
   "metadata": {},
   "outputs": [],
   "source": [
    "X_train = train_data[\"text\"].to_numpy()\n",
    "y_train = train_data[\"target\"].to_numpy()\n",
    "X_test = test_data[\"text\"].to_numpy()"
   ]
  },
  {
   "cell_type": "code",
   "execution_count": 30,
   "metadata": {},
   "outputs": [
    {
     "data": {
      "text/plain": [
       "LabelEncoder()"
      ]
     },
     "execution_count": 30,
     "metadata": {},
     "output_type": "execute_result"
    }
   ],
   "source": [
    "le = LabelEncoder()\n",
    "le.fit(y_train)"
   ]
  },
  {
   "cell_type": "code",
   "execution_count": 31,
   "metadata": {},
   "outputs": [],
   "source": [
    "def encode(le, labels):\n",
    "    enc = le.transform(labels)\n",
    "    return keras.utils.to_categorical(enc)\n",
    "\n",
    "def decode(le, one_hot):\n",
    "    dec = np.argmax(one_hot, axis = 1)\n",
    "    return(le.inverse_transform(dec))"
   ]
  },
  {
   "cell_type": "code",
   "execution_count": 32,
   "metadata": {},
   "outputs": [],
   "source": [
    "X_train_enc = X_train\n",
    "y_train_enc = encode(le, y_train)"
   ]
  },
  {
   "cell_type": "code",
   "execution_count": 34,
   "metadata": {},
   "outputs": [],
   "source": [
    "module_url = \"https://tfhub.dev/google/universal-sentence-encoder/2\" \n",
    "embed = hub.Module(module_url)"
   ]
  },
  {
   "cell_type": "code",
   "execution_count": 35,
   "metadata": {},
   "outputs": [],
   "source": [
    "def UniversalSentenceEncoding(x):\n",
    "    return embed(tf.squeeze(tf.cast(x, tf.string)))"
   ]
  },
  {
   "cell_type": "code",
   "execution_count": 102,
   "metadata": {},
   "outputs": [
    {
     "name": "stdout",
     "output_type": "stream",
     "text": [
      "INFO:tensorflow:Saver not created because there are no variables in the graph to restore\n"
     ]
    },
    {
     "name": "stderr",
     "output_type": "stream",
     "text": [
      "INFO:tensorflow:Saver not created because there are no variables in the graph to restore\n"
     ]
    }
   ],
   "source": [
    "input_layer = Input(shape = (1,), dtype = tf.string)\n",
    "embedding_layer = Lambda(UniversalSentenceEncoding, output_shape = (512,))(input_layer)\n",
    "dense_layer = Dense(256, activation = \"relu\")(embedding_layer)\n",
    "dense_layer_2 = Dense(128, activation = \"relu\")(dense_layer)\n",
    "prediction_layer = Dense(2, activation = \"softmax\")(dense_layer_2)\n",
    "\n",
    "nlp_model = Model(inputs = [input_layer], outputs = prediction_layer)"
   ]
  },
  {
   "cell_type": "code",
   "execution_count": 103,
   "metadata": {},
   "outputs": [
    {
     "name": "stdout",
     "output_type": "stream",
     "text": [
      "Model: \"model_6\"\n",
      "_________________________________________________________________\n",
      "Layer (type)                 Output Shape              Param #   \n",
      "=================================================================\n",
      "input_7 (InputLayer)         [(None, 1)]               0         \n",
      "_________________________________________________________________\n",
      "lambda_6 (Lambda)            (None, 512)               0         \n",
      "_________________________________________________________________\n",
      "dense_21 (Dense)             (None, 256)               131328    \n",
      "_________________________________________________________________\n",
      "dense_22 (Dense)             (None, 128)               32896     \n",
      "_________________________________________________________________\n",
      "dense_23 (Dense)             (None, 2)                 258       \n",
      "=================================================================\n",
      "Total params: 164,482\n",
      "Trainable params: 164,482\n",
      "Non-trainable params: 0\n",
      "_________________________________________________________________\n"
     ]
    }
   ],
   "source": [
    "nlp_model.summary()"
   ]
  },
  {
   "cell_type": "code",
   "execution_count": 92,
   "metadata": {},
   "outputs": [],
   "source": [
    "nlp_model.compile(loss='categorical_crossentropy', optimizer = \"adam\", metrics=[\"accuracy\"])\n",
    "callback = EarlyStopping(monitor='val_loss', patience=5, min_delta = 0.0001, restore_best_weights = True)"
   ]
  },
  {
   "cell_type": "code",
   "execution_count": 93,
   "metadata": {},
   "outputs": [
    {
     "name": "stdout",
     "output_type": "stream",
     "text": [
      "Train on 5329 samples, validate on 2284 samples\n",
      "Epoch 1/50\n"
     ]
    },
    {
     "name": "stderr",
     "output_type": "stream",
     "text": [
      "C:\\Users\\Antoine\\anaconda3\\lib\\site-packages\\tensorflow\\python\\keras\\engine\\training.py:2325: UserWarning: `Model.state_updates` will be removed in a future version. This property should not be used in TensorFlow 2.0, as `updates` are applied automatically.\n",
      "  warnings.warn('`Model.state_updates` will be removed in a future version. '\n"
     ]
    },
    {
     "name": "stdout",
     "output_type": "stream",
     "text": [
      "5329/5329 - 5s - loss: 0.4690 - accuracy: 0.8003 - val_loss: 0.4015 - val_accuracy: 0.8341\n",
      "Epoch 2/50\n",
      "5329/5329 - 3s - loss: 0.4137 - accuracy: 0.8206 - val_loss: 0.4216 - val_accuracy: 0.8201\n",
      "Epoch 3/50\n",
      "5329/5329 - 3s - loss: 0.3876 - accuracy: 0.8362 - val_loss: 0.4113 - val_accuracy: 0.8249\n",
      "Epoch 4/50\n",
      "5329/5329 - 3s - loss: 0.3597 - accuracy: 0.8457 - val_loss: 0.4212 - val_accuracy: 0.8192\n",
      "Epoch 5/50\n",
      "5329/5329 - 3s - loss: 0.3221 - accuracy: 0.8666 - val_loss: 0.4278 - val_accuracy: 0.8130\n",
      "Epoch 6/50\n",
      "5329/5329 - 3s - loss: 0.2822 - accuracy: 0.8867 - val_loss: 0.4784 - val_accuracy: 0.8100\n",
      "Epoch 7/50\n",
      "5329/5329 - 3s - loss: 0.2277 - accuracy: 0.9127 - val_loss: 0.5406 - val_accuracy: 0.7916\n",
      "Epoch 8/50\n",
      "5329/5329 - 3s - loss: 0.1789 - accuracy: 0.9315 - val_loss: 0.5949 - val_accuracy: 0.7916\n",
      "Epoch 9/50\n",
      "5329/5329 - 3s - loss: 0.1505 - accuracy: 0.9443 - val_loss: 0.6650 - val_accuracy: 0.8047\n",
      "Epoch 10/50\n",
      "5329/5329 - 3s - loss: 0.1164 - accuracy: 0.9572 - val_loss: 0.7438 - val_accuracy: 0.7736\n",
      "Epoch 11/50\n",
      "5329/5329 - 3s - loss: 0.0956 - accuracy: 0.9653 - val_loss: 0.8371 - val_accuracy: 0.7912\n",
      "Epoch 12/50\n",
      "5329/5329 - 3s - loss: 0.0821 - accuracy: 0.9709 - val_loss: 0.8706 - val_accuracy: 0.7798\n",
      "Epoch 13/50\n",
      "5329/5329 - 3s - loss: 0.0702 - accuracy: 0.9750 - val_loss: 0.9656 - val_accuracy: 0.7868\n",
      "Epoch 14/50\n",
      "5329/5329 - 3s - loss: 0.0649 - accuracy: 0.9741 - val_loss: 0.9539 - val_accuracy: 0.7833\n",
      "Epoch 15/50\n",
      "5329/5329 - 3s - loss: 0.0505 - accuracy: 0.9810 - val_loss: 1.0764 - val_accuracy: 0.7758\n",
      "Epoch 16/50\n",
      "5329/5329 - 4s - loss: 0.0517 - accuracy: 0.9814 - val_loss: 1.1270 - val_accuracy: 0.7798\n",
      "Model trained in 64s\n"
     ]
    }
   ],
   "source": [
    "start_clock = time.time()\n",
    "with tf.Session() as session:\n",
    "    KB.set_session(session)\n",
    "    session.run(tf.global_variables_initializer())\n",
    "    session.run(tf.tables_initializer())\n",
    "    training_session = nlp_model.fit(X_train_enc, y_train_enc, epochs = 50, batch_size = 50, verbose=2, \n",
    "                                     validation_split = 0.3, callbacks = [callback])\n",
    "    nlp_model.save_weights(\"./data/nlp_model.h5\")\n",
    "print(\"Model trained in {}s\".format(round(time.time() - start_clock)))"
   ]
  },
  {
   "cell_type": "markdown",
   "metadata": {},
   "source": [
    "# Predictions"
   ]
  },
  {
   "cell_type": "code",
   "execution_count": 94,
   "metadata": {},
   "outputs": [],
   "source": [
    "with tf.Session() as session:\n",
    "    KB.set_session(session)\n",
    "    session.run(tf.global_variables_initializer())\n",
    "    session.run(tf.tables_initializer())\n",
    "    nlp_model.load_weights('./data/nlp_model.h5')\n",
    "    predictions = nlp_model.predict(X_test, batch_size = 100)"
   ]
  },
  {
   "cell_type": "code",
   "execution_count": 95,
   "metadata": {},
   "outputs": [
    {
     "data": {
      "text/plain": [
       "array([[0.32812214, 0.67187786],\n",
       "       [0.0463776 , 0.9536224 ],\n",
       "       [0.1895535 , 0.81044656],\n",
       "       ...,\n",
       "       [0.05779055, 0.9422095 ],\n",
       "       [0.45685574, 0.5431443 ],\n",
       "       [0.38907456, 0.61092544]], dtype=float32)"
      ]
     },
     "execution_count": 95,
     "metadata": {},
     "output_type": "execute_result"
    }
   ],
   "source": [
    "predictions"
   ]
  },
  {
   "cell_type": "code",
   "execution_count": 96,
   "metadata": {},
   "outputs": [],
   "source": [
    "y_predictions = decode(le, predictions)"
   ]
  },
  {
   "cell_type": "code",
   "execution_count": 97,
   "metadata": {},
   "outputs": [
    {
     "data": {
      "text/plain": [
       "array([1, 1, 1, ..., 1, 1, 1], dtype=int64)"
      ]
     },
     "execution_count": 97,
     "metadata": {},
     "output_type": "execute_result"
    }
   ],
   "source": [
    "y_predictions"
   ]
  },
  {
   "cell_type": "code",
   "execution_count": 98,
   "metadata": {},
   "outputs": [],
   "source": [
    "output = pd.DataFrame()"
   ]
  },
  {
   "cell_type": "code",
   "execution_count": 99,
   "metadata": {},
   "outputs": [],
   "source": [
    "output[\"id\"] = test_data[\"id\"]\n",
    "output[\"target\"] = y_predictions"
   ]
  },
  {
   "cell_type": "code",
   "execution_count": 100,
   "metadata": {},
   "outputs": [
    {
     "data": {
      "text/html": [
       "<div>\n",
       "<style scoped>\n",
       "    .dataframe tbody tr th:only-of-type {\n",
       "        vertical-align: middle;\n",
       "    }\n",
       "\n",
       "    .dataframe tbody tr th {\n",
       "        vertical-align: top;\n",
       "    }\n",
       "\n",
       "    .dataframe thead th {\n",
       "        text-align: right;\n",
       "    }\n",
       "</style>\n",
       "<table border=\"1\" class=\"dataframe\">\n",
       "  <thead>\n",
       "    <tr style=\"text-align: right;\">\n",
       "      <th></th>\n",
       "      <th>id</th>\n",
       "      <th>target</th>\n",
       "    </tr>\n",
       "  </thead>\n",
       "  <tbody>\n",
       "    <tr>\n",
       "      <th>0</th>\n",
       "      <td>0</td>\n",
       "      <td>1</td>\n",
       "    </tr>\n",
       "    <tr>\n",
       "      <th>1</th>\n",
       "      <td>2</td>\n",
       "      <td>1</td>\n",
       "    </tr>\n",
       "    <tr>\n",
       "      <th>2</th>\n",
       "      <td>3</td>\n",
       "      <td>1</td>\n",
       "    </tr>\n",
       "    <tr>\n",
       "      <th>3</th>\n",
       "      <td>9</td>\n",
       "      <td>1</td>\n",
       "    </tr>\n",
       "    <tr>\n",
       "      <th>4</th>\n",
       "      <td>11</td>\n",
       "      <td>1</td>\n",
       "    </tr>\n",
       "  </tbody>\n",
       "</table>\n",
       "</div>"
      ],
      "text/plain": [
       "   id  target\n",
       "0   0       1\n",
       "1   2       1\n",
       "2   3       1\n",
       "3   9       1\n",
       "4  11       1"
      ]
     },
     "execution_count": 100,
     "metadata": {},
     "output_type": "execute_result"
    }
   ],
   "source": [
    "output.head()"
   ]
  },
  {
   "cell_type": "code",
   "execution_count": 101,
   "metadata": {},
   "outputs": [],
   "source": [
    "output.to_csv(r\"./data/output3.csv\", index = False, header = True)"
   ]
  },
  {
   "cell_type": "markdown",
   "metadata": {},
   "source": [
    "We get a score of 0.81949"
   ]
  },
  {
   "cell_type": "code",
   "execution_count": null,
   "metadata": {},
   "outputs": [],
   "source": []
  }
 ],
 "metadata": {
  "kernelspec": {
   "display_name": "Python 3",
   "language": "python",
   "name": "python3"
  },
  "language_info": {
   "codemirror_mode": {
    "name": "ipython",
    "version": 3
   },
   "file_extension": ".py",
   "mimetype": "text/x-python",
   "name": "python",
   "nbconvert_exporter": "python",
   "pygments_lexer": "ipython3",
   "version": "3.8.3"
  },
  "toc": {
   "base_numbering": 1,
   "nav_menu": {},
   "number_sections": true,
   "sideBar": false,
   "skip_h1_title": false,
   "title_cell": "Table of Contents",
   "title_sidebar": "Contents",
   "toc_cell": true,
   "toc_position": {},
   "toc_section_display": true,
   "toc_window_display": false
  }
 },
 "nbformat": 4,
 "nbformat_minor": 4
}
